{
  "nbformat": 4,
  "nbformat_minor": 0,
  "metadata": {
    "colab": {
      "provenance": []
    },
    "kernelspec": {
      "name": "python3",
      "display_name": "Python 3"
    },
    "language_info": {
      "name": "python"
    }
  },
  "cells": [
    {
      "cell_type": "code",
      "execution_count": 2,
      "metadata": {
        "id": "D6uEDMKiGo8a"
      },
      "outputs": [],
      "source": [
        "import cv2\n",
        "import numpy as np\n",
        "import tensorflow as tf\n",
        "from tensorflow.keras.models import load_model\n"
      ]
    },
    {
      "cell_type": "code",
      "source": [
        "# Fungsi untuk mengonversi warna dari HEX ke RGB\n",
        "def hex_to_rgb(hex_color):\n",
        "    hex_color = hex_color.lstrip('#')\n",
        "    return tuple(int(hex_color[i:i+2], 16) for i in (0, 2, 4))\n",
        "\n",
        "# Fungsi untuk mengonversi warna dari RGB ke HEX\n",
        "def rgb_to_hex(rgb):\n",
        "    return '#%02x%02x%02x' % tuple(rgb)\n",
        "\n",
        "# Fungsi untuk ekstraksi warna kulit rata-rata\n",
        "def extract_average_face_color(image_path):\n",
        "    image = cv2.imread(image_path)\n",
        "    if image is None:\n",
        "        raise ValueError(\"Gambar tidak ditemukan atau format tidak didukung.\")\n",
        "\n",
        "    gray = cv2.cvtColor(image, cv2.COLOR_BGR2GRAY)\n",
        "    face_cascade = cv2.CascadeClassifier(cv2.data.haarcascades + 'haarcascade_frontalface_default.xml')\n",
        "    faces = face_cascade.detectMultiScale(gray, scaleFactor=1.1, minNeighbors=5, minSize=(30, 30))\n",
        "\n",
        "    if len(faces) == 0:\n",
        "        raise ValueError(\"Tidak ada wajah yang terdeteksi dalam gambar.\")\n",
        "\n",
        "    x, y, w, h = faces[0]\n",
        "    face_region = image[y:y+h, x:x+w]\n",
        "    face_tensor = tf.convert_to_tensor(face_region, dtype=tf.float32)\n",
        "    mean_color = tf.reduce_mean(face_tensor, axis=[0, 1])\n",
        "    mean_color = mean_color.numpy().astype(int)\n",
        "    hex_color = \"#{:02x}{:02x}{:02x}\".format(mean_color[2], mean_color[1], mean_color[0])\n",
        "\n",
        "    return hex_color\n",
        "\n"
      ],
      "metadata": {
        "id": "cbiEDEiuHLQr"
      },
      "execution_count": 6,
      "outputs": []
    },
    {
      "cell_type": "code",
      "source": [
        "# Muat model yang sudah disimpan\n",
        "model = load_model('pallete_generator.h5')\n",
        "\n",
        "# Prediksi palet warna berdasarkan warna kulit\n",
        "def predict_palette(image_path):\n",
        "    skin_tone_hex = extract_average_face_color(image_path)\n",
        "    skin_tone_rgb = np.array([hex_to_rgb(skin_tone_hex)])\n",
        "\n",
        "    predicted_palette = model.predict(skin_tone_rgb)\n",
        "    predicted_palette = predicted_palette.reshape(-1, 3).astype(int)\n",
        "    predicted_palette_hex = [rgb_to_hex(color) for color in predicted_palette]\n",
        "\n",
        "    return skin_tone_hex, predicted_palette_hex"
      ],
      "metadata": {
        "id": "jHpKtzMnHOY4"
      },
      "execution_count": 7,
      "outputs": []
    },
    {
      "cell_type": "code",
      "source": [
        "import matplotlib.pyplot as plt\n",
        "\n",
        "# Fungsi untuk menampilkan palet warna\n",
        "def display_color_palette(skin_tone_hex, predicted_colors):\n",
        "    skin_tone_rgb = hex_to_rgb(skin_tone_hex)\n",
        "    colors = [skin_tone_rgb] + [hex_to_rgb(color) for color in predicted_colors]\n",
        "    color_labels = [\"Extracted Skin Tone\"] + [f\"Color {i+1}\" for i in range(len(predicted_colors))]\n",
        "\n",
        "    plt.figure(figsize=(12, 2))\n",
        "    for i, (color, label) in enumerate(zip(colors, color_labels)):\n",
        "        plt.subplot(1, len(colors), i + 1)\n",
        "        plt.imshow([[color]])\n",
        "        plt.title(label, fontsize=8)\n",
        "        plt.axis('off')\n",
        "    plt.show()\n"
      ],
      "metadata": {
        "id": "h6OM3rWzHxrR"
      },
      "execution_count": 8,
      "outputs": []
    },
    {
      "cell_type": "code",
      "source": [
        "# Contoh penggunaan\n",
        "image_path = 'curl.jpeg'\n",
        "skin_tone_hex, predicted_palette = predict_palette(image_path)\n",
        "display_color_palette(skin_tone_hex, predicted_palette)\n",
        "print(\"Extracted skin tone:\", skin_tone_hex)\n",
        "print(\"Predicted color palette:\", predicted_palette)"
      ],
      "metadata": {
        "colab": {
          "base_uri": "https://localhost:8080/",
          "height": 238
        },
        "id": "2Y761JJvJ7Ns",
        "outputId": "5cd0d41c-8dcb-40f5-f29b-0ab329f64810"
      },
      "execution_count": 9,
      "outputs": [
        {
          "output_type": "stream",
          "name": "stdout",
          "text": [
            "1/1 [==============================] - 0s 159ms/step\n"
          ]
        },
        {
          "output_type": "display_data",
          "data": {
            "text/plain": [
              "<Figure size 1200x200 with 6 Axes>"
            ],
            "image/png": "[encoded data removed]"
          },
          "metadata": {}
        },
        {
          "output_type": "stream",
          "name": "stdout",
          "text": [
            "Extracted skin tone: #936a54\n",
            "Predicted color palette: ['#746542', '#bbad33', '#8e302d', '#403786', '#957a4c']\n"
          ]
        }
      ]
    }
  ]
}